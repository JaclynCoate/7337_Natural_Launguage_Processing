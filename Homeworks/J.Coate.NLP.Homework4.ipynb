{
 "cells": [
  {
   "cell_type": "markdown",
   "metadata": {},
   "source": [
    "## DS 7337: Natural Language Processing\n",
    "\n",
    "## Jaclyn Coate\n",
    "## Homework 4\n",
    "\n",
    "#### Spring 2021\n",
    "#### Natural Language Processing w/ Python: Bird, Klein, & Loper"
   ]
  },
  {
   "cell_type": "code",
   "execution_count": 1,
   "metadata": {},
   "outputs": [],
   "source": [
    "import nltk\n",
    "import numpy as np\n",
    "from nltk.metrics import *\n",
    "from nltk.corpus import stopwords\n",
    "import matplotlib.pyplot as plt\n",
    "from pattern3.text.en import tag\n",
    "from difflib import SequenceMatcher"
   ]
  },
  {
   "cell_type": "markdown",
   "metadata": {},
   "source": [
    "##### HW 4: Question 1\n",
    "Run one of the part-of-speech (POS) taggers available in Python.\n",
    "\n",
    "a. Find the longest sentence you can, longer than 10 words, that the POS tagger tags correctly. Show the input and output."
   ]
  },
  {
   "cell_type": "code",
   "execution_count": 25,
   "metadata": {},
   "outputs": [
    {
     "name": "stdout",
     "output_type": "stream",
     "text": [
      "Original long sentence:\n",
      "-----------------------\n",
      "Call me Ishmael. Some years ago—never mind how long precisely—having little or no money in my purse, and nothing particular to interest me on shore, I thought I would sail about a little and see the watery part of the world. \n",
      "\n",
      "POS tagged sentence:\n",
      "--------------------\n",
      "[('C', 'VB'), ('a', 'DT'), ('l', 'NN'), ('l', 'NN'), (' ', 'NNP'), ('m', 'NN'), ('e', 'NN'), (' ', 'NN'), ('I', 'PRP'), ('s', 'VBP'), ('h', 'JJ'), ('m', 'FW'), ('a', 'DT'), ('e', 'NN'), ('l', 'NN'), ('.', '.'), (' ', 'CC'), ('S', 'NNP'), ('o', 'VBP'), ('m', 'NN'), ('e', 'NN'), (' ', 'NNP'), ('y', 'NNP'), ('e', 'VBZ'), ('a', 'DT'), ('r', 'NN'), ('s', 'NN'), (' ', 'VBZ'), ('a', 'DT'), ('g', 'NN'), ('o', 'NN'), ('—', 'NNP'), ('n', 'CC'), ('e', 'JJ'), ('v', 'NN'), ('e', 'NN'), ('r', 'NN'), (' ', 'NNP'), ('m', 'NN'), ('i', 'NN'), ('n', 'VBP'), ('d', 'NN'), (' ', 'NN'), ('h', 'NN'), ('o', 'JJ'), ('w', 'NN'), (' ', 'NNP'), ('l', 'NN'), ('o', 'NN'), ('n', 'JJ'), ('g', 'NN'), (' ', 'NNP'), ('p', 'NN'), ('r', 'NN'), ('e', 'IN'), ('c', 'NN'), ('i', 'NN'), ('s', 'VBP'), ('e', 'NN'), ('l', 'NN'), ('y', 'NN'), ('—', 'NNP'), ('h', 'VBZ'), ('a', 'DT'), ('v', 'NN'), ('i', 'NN'), ('n', 'VBP'), ('g', 'NN'), (' ', 'NNP'), ('l', 'NN'), ('i', 'NN'), ('t', 'VBP'), ('t', 'NN'), ('l', 'NN'), ('e', 'NN'), (' ', 'NNP'), ('o', 'VBZ'), ('r', 'NN'), (' ', 'NNP'), ('n', 'CC'), ('o', 'JJ'), (' ', 'NNP'), ('m', 'NN'), ('o', 'NN'), ('n', 'JJ'), ('e', 'NN'), ('y', 'NN'), (' ', 'NN'), ('i', 'NN'), ('n', 'VBP'), (' ', 'NNP'), ('m', 'NN'), ('y', 'NN'), (' ', 'NNP'), ('p', 'NN'), ('u', 'JJ'), ('r', 'NN'), ('s', 'NN'), ('e', 'NN'), (',', ','), (' ', 'VB'), ('a', 'DT'), ('n', 'JJ'), ('d', 'NN'), (' ', 'NNP'), ('n', 'CC'), ('o', 'JJ'), ('t', 'NN'), ('h', 'NN'), ('i', 'JJ'), ('n', 'VBP'), ('g', 'JJ'), (' ', 'NNP'), ('p', 'NN'), ('a', 'DT'), ('r', 'NN'), ('t', 'NN'), ('i', 'NN'), ('c', 'VBP'), ('u', 'JJ'), ('l', 'NN'), ('a', 'DT'), ('r', 'NN'), (' ', 'NNP'), ('t', 'NN'), ('o', 'NN'), (' ', 'NN'), ('i', 'NN'), ('n', 'VBP'), ('t', 'NN'), ('e', 'NN'), ('r', 'NN'), ('e', 'NN'), ('s', 'NN'), ('t', 'NN'), (' ', 'NNP'), ('m', 'NN'), ('e', 'NN'), (' ', 'NNP'), ('o', 'VBZ'), ('n', 'JJ'), (' ', 'NNP'), ('s', 'NN'), ('h', 'NN'), ('o', 'JJ'), ('r', 'NN'), ('e', 'NN'), (',', ','), (' ', 'VBP'), ('I', 'PRP'), (' ', 'VBP'), ('t', 'JJ'), ('h', 'NN'), ('o', 'NN'), ('u', 'JJ'), ('g', 'NN'), ('h', 'NN'), ('t', 'IN'), (' ', 'NN'), ('I', 'PRP'), (' ', 'VBP'), ('w', 'JJ'), ('o', 'NN'), ('u', 'JJ'), ('l', 'NN'), ('d', 'NN'), (' ', 'NNP'), ('s', 'VBZ'), ('a', 'DT'), ('i', 'JJ'), ('l', 'NN'), (' ', 'VBD'), ('a', 'DT'), ('b', 'NN'), ('o', 'NN'), ('u', 'JJ'), ('t', 'NN'), (' ', 'VBD'), ('a', 'DT'), (' ', 'JJ'), ('l', 'NN'), ('i', 'NN'), ('t', 'VBP'), ('t', 'NN'), ('l', 'NN'), ('e', 'NN'), (' ', 'VBZ'), ('a', 'DT'), ('n', 'JJ'), ('d', 'NN'), (' ', 'NNP'), ('s', 'NN'), ('e', 'NN'), ('e', 'NN'), (' ', 'NNP'), ('t', 'NN'), ('h', 'NN'), ('e', 'NN'), (' ', 'NNP'), ('w', 'VBZ'), ('a', 'DT'), ('t', 'NN'), ('e', 'NN'), ('r', 'NN'), ('y', 'NN'), (' ', 'NNP'), ('p', 'VBZ'), ('a', 'DT'), ('r', 'NN'), ('t', 'NN'), (' ', 'NNP'), ('o', 'VBZ'), ('f', 'JJ'), (' ', 'NNP'), ('t', 'NN'), ('h', 'NN'), ('e', 'NN'), (' ', 'NNP'), ('w', 'NN'), ('o', 'NN'), ('r', 'NN'), ('l', 'NN'), ('d', 'NN'), ('.', '.')] \n",
      "\n",
      "Original short sentence:\n",
      "-----------------------\n",
      "Call me Ishmael. \n",
      "\n",
      "POS tagged sentence:\n",
      "--------------------\n",
      "[('C', 'VB'), ('a', 'DT'), ('l', 'NN'), ('l', 'NN'), (' ', 'NNP'), ('m', 'NN'), ('e', 'NN'), (' ', 'NN'), ('I', 'PRP'), ('s', 'VBP'), ('h', 'JJ'), ('m', 'FW'), ('a', 'DT'), ('e', 'NN'), ('l', 'NN'), ('.', '.')] \n",
      "\n"
     ]
    }
   ],
   "source": [
    "longSentence = \"Call me Ishmael. Some years ago—never mind how long precisely—having little or no money in my purse, and nothing particular to interest me on shore, I thought I would sail about a little and see the watery part of the world.\"\n",
    "shortSentence = \"Call me Ishmael.\"\n",
    "\n",
    "taggedLongSent = nltk.pos_tag(longSentence)\n",
    "taggedShortSent = nltk.pos_tag(shortSentence)\n",
    "\n",
    "print('Original long sentence:')\n",
    "print('-----------------------')\n",
    "print(longSentence,'\\n')\n",
    "print('POS tagged sentence:')\n",
    "print('--------------------')\n",
    "print(taggedLongSent,'\\n')\n",
    "\n",
    "print('Original short sentence:')\n",
    "print('-----------------------')\n",
    "print(shortSentence,'\\n')\n",
    "print('POS tagged sentence:')\n",
    "print('--------------------')\n",
    "print(taggedShortSent,'\\n')"
   ]
  },
  {
   "cell_type": "markdown",
   "metadata": {},
   "source": [
    "b. Find the shortest sentence you can, shorter than 10 words, that the POS tagger fails to tag 100 percent correctly. Show the input and output. Explain your conjecture as to why the tagger might have been less than perfect with this sentence.\n",
    "\n",
    "I actually didn't feel like I could effectively 'break' the POS tagger. So I went ahead and used a slang sentence that ends a preposition just to see what it would do."
   ]
  },
  {
   "cell_type": "code",
   "execution_count": 27,
   "metadata": {},
   "outputs": [
    {
     "name": "stdout",
     "output_type": "stream",
     "text": [
      "Original Sentence to Break POS:\n",
      "-----------------------\n",
      "I'm going with. \n",
      "\n",
      "POS Broken Error\n",
      "--------------------\n",
      "[('I', 'PRP'), (\"'\", \"''\"), ('m', 'JJ'), (' ', 'NNP'), ('g', 'NN'), ('o', 'NN'), ('i', 'NN'), ('n', 'VBP'), ('g', 'NN'), (' ', 'NNP'), ('w', 'NN'), ('i', 'NN'), ('t', 'VBP'), ('h', 'NN'), ('.', '.')] \n",
      "\n"
     ]
    }
   ],
   "source": [
    "breakPOS = \"I'm going with.\"\n",
    "tokensBreak = nltk.word_tokenize(breakPOS)\n",
    "\n",
    "taggedbreakPOS = nltk.pos_tag(breakPOS)\n",
    "\n",
    "print('Original Sentence to Break POS:')\n",
    "print('-----------------------')\n",
    "print(breakPOS,'\\n')\n",
    "print('POS Broken Error')\n",
    "print('--------------------')\n",
    "print(taggedbreakPOS,'\\n')"
   ]
  },
  {
   "cell_type": "markdown",
   "metadata": {},
   "source": [
    "##### HW 4: Question 2\n",
    "Run a different POS tagger in Python. Process the same two sentences from _Question 1_.\n",
    "\n",
    "a. Does it produce the same or different output?"
   ]
  },
  {
   "cell_type": "code",
   "execution_count": 4,
   "metadata": {},
   "outputs": [],
   "source": [
    "import spacy\n",
    "sp = spacy.load('en_core_web_sm')"
   ]
  },
  {
   "cell_type": "code",
   "execution_count": 20,
   "metadata": {},
   "outputs": [
    {
     "name": "stdout",
     "output_type": "stream",
     "text": [
      "Original long sentence:\n",
      "Call me Ishmael. Some years ago—never mind how long precisely—having little or no money in my purse, and nothing particular to interest me on shore, I thought I would sail about a little and see the watery part of the world.\n",
      "----------------------- \n",
      "\n",
      "Coarse Grained POS Tagging for 2nd Word\n",
      "PROPN\n",
      "----------------------- \n",
      "\n",
      "Ganular POS Tagging for 2nd Word\n",
      "noun, proper singular\n",
      "----------------------- \n",
      "\n",
      "Ganular POS Tagging for Entire Sentence \n",
      "\n",
      "Call         VERB       VB       verb, base form\n",
      "me           PRON       PRP      pronoun, personal\n",
      "Ishmael      PROPN      NNP      noun, proper singular\n",
      ".            PUNCT      .        punctuation mark, sentence closer\n",
      "Some         DET        DT       determiner\n",
      "years        NOUN       NNS      noun, plural\n",
      "ago          ADV        RB       adverb\n",
      "—            PUNCT      :        punctuation mark, colon or ellipsis\n",
      "never        ADV        RB       adverb\n",
      "mind         VERB       VB       verb, base form\n",
      "how          ADV        WRB      wh-adverb\n",
      "long         ADV        RB       adverb\n",
      "precisely    ADV        RB       adverb\n",
      "—            PUNCT      :        punctuation mark, colon or ellipsis\n",
      "having       VERB       VBG      verb, gerund or present participle\n",
      "little       ADJ        JJ       adjective\n",
      "or           CCONJ      CC       conjunction, coordinating\n",
      "no           DET        DT       determiner\n",
      "money        NOUN       NN       noun, singular or mass\n",
      "in           ADP        IN       conjunction, subordinating or preposition\n",
      "my           PRON       PRP$     pronoun, possessive\n",
      "purse        NOUN       NN       noun, singular or mass\n",
      ",            PUNCT      ,        punctuation mark, comma\n",
      "and          CCONJ      CC       conjunction, coordinating\n",
      "nothing      PRON       NN       noun, singular or mass\n",
      "particular   ADJ        JJ       adjective\n",
      "to           PART       TO       infinitival \"to\"\n",
      "interest     VERB       VB       verb, base form\n",
      "me           PRON       PRP      pronoun, personal\n",
      "on           ADP        IN       conjunction, subordinating or preposition\n",
      "shore        NOUN       NN       noun, singular or mass\n",
      ",            PUNCT      ,        punctuation mark, comma\n",
      "I            PRON       PRP      pronoun, personal\n",
      "thought      VERB       VBD      verb, past tense\n",
      "I            PRON       PRP      pronoun, personal\n",
      "would        AUX        MD       verb, modal auxiliary\n",
      "sail         VERB       VB       verb, base form\n",
      "about        ADV        RB       adverb\n",
      "a            DET        DT       determiner\n",
      "little       ADJ        JJ       adjective\n",
      "and          CCONJ      CC       conjunction, coordinating\n",
      "see          VERB       VB       verb, base form\n",
      "the          DET        DT       determiner\n",
      "watery       ADJ        JJ       adjective\n",
      "part         NOUN       NN       noun, singular or mass\n",
      "of           ADP        IN       conjunction, subordinating or preposition\n",
      "the          DET        DT       determiner\n",
      "world        NOUN       NN       noun, singular or mass\n",
      ".            PUNCT      .        punctuation mark, sentence closer\n"
     ]
    }
   ],
   "source": [
    "longsenspacy = sp(u\"Call me Ishmael. Some years ago—never mind how long precisely—having little or no money in my purse, and nothing particular to interest me on shore, I thought I would sail about a little and see the watery part of the world.\")\n",
    "print('Original long sentence:')\n",
    "print(longsenspacy.text)\n",
    "print('-----------------------','\\n')\n",
    "\n",
    "#pos_ attribute returning the coarse-grained POS tag\n",
    "print('Coarse Grained POS Tagging for 2nd Word')\n",
    "print(longsenspacy[2].pos_)\n",
    "print('-----------------------','\\n')\n",
    "\n",
    "print('Ganular POS Tagging for 2nd Word')\n",
    "print(spacy.explain(longsenspacy[2].tag_))\n",
    "print('-----------------------','\\n')\n",
    "\n",
    "#Full analyzed sentence\n",
    "print('Ganular POS Tagging for Entire Sentence', '\\n')\n",
    "for word in longsenspacy:\n",
    "    print(f'{word.text:{12}} {word.pos_:{10}} {word.tag_:{8}} {spacy.explain(word.tag_)}')"
   ]
  },
  {
   "cell_type": "markdown",
   "metadata": {},
   "source": [
    "b.\tExplain any differences as best you can."
   ]
  },
  {
   "cell_type": "markdown",
   "metadata": {},
   "source": [
    "There are tons of similarities and differences. Mostly I see all verbs regaularly recognized as well as subjects. I see more differences when it comes to preposition phrases. Adjectives tend to be similarly identified as well. I find the scaCy POS tagger much more informative. As someone who is new to NLP the ability to reference the word, part of speech, and POS tag in a sinlge line with a simple explanation really helps elevate the data in a digestable way."
   ]
  },
  {
   "cell_type": "markdown",
   "metadata": {},
   "source": [
    "##### HW 4: Question 3\n",
    "In a news article from this week’s news, find a random sentence of at least 10 words.\n",
    "\n",
    "a. Looking at the Penn tag set, manually POS tag the sentence yourself.\n",
    "\n",
    "* Noun: Tiger Woods\n",
    "* Adjective: Seriously\n",
    "* Verb: Injured\n",
    "* Preposition: in\n",
    "* Verb: rollover\n",
    "* Object: car\n",
    "* Verb: crash\n",
    "* Preposition: near\n",
    "* Noun: Los Angeles"
   ]
  },
  {
   "cell_type": "markdown",
   "metadata": {},
   "source": [
    "b. Now run the same sentences through both taggers that you implemented for questions 1 and 2. Did either of the taggers produce the same results as you had created manually?"
   ]
  },
  {
   "cell_type": "code",
   "execution_count": 28,
   "metadata": {},
   "outputs": [
    {
     "name": "stdout",
     "output_type": "stream",
     "text": [
      "Original news sentence:\n",
      "-----------------------\n",
      "Tiger Woods seriously injured in rollover car crash near Los Angeles. \n",
      "\n",
      "POS tagged news sentence:\n",
      "--------------------\n",
      "[('T', 'NNP'), ('i', 'NN'), ('g', 'VBP'), ('e', 'NN'), ('r', 'NN'), (' ', 'NNP'), ('W', 'NNP'), ('o', 'MD'), ('o', 'VB'), ('d', 'JJ'), ('s', 'NN'), (' ', 'NNP'), ('s', 'NN'), ('e', 'NN'), ('r', 'NN'), ('i', 'NN'), ('o', 'VBP'), ('u', 'JJ'), ('s', 'NN'), ('l', 'NN'), ('y', 'NN'), (' ', 'NN'), ('i', 'NN'), ('n', 'VBP'), ('j', 'NN'), ('u', 'JJ'), ('r', 'NN'), ('e', 'NN'), ('d', 'NN'), (' ', 'NN'), ('i', 'NN'), ('n', 'VBP'), (' ', 'JJ'), ('r', 'NN'), ('o', 'NN'), ('l', 'NN'), ('l', 'NN'), ('o', 'NN'), ('v', 'NN'), ('e', 'NN'), ('r', 'NN'), (' ', 'NNP'), ('c', 'VBZ'), ('a', 'DT'), ('r', 'NN'), (' ', 'NNP'), ('c', 'VBZ'), ('r', 'VB'), ('a', 'DT'), ('s', 'NN'), ('h', 'NN'), (' ', 'NNP'), ('n', 'RB'), ('e', 'VBZ'), ('a', 'DT'), ('r', 'NN'), (' ', 'NNP'), ('L', 'NNP'), ('o', 'MD'), ('s', 'VB'), (' ', 'VB'), ('A', 'NNP'), ('n', 'JJ'), ('g', 'NN'), ('e', 'NN'), ('l', 'NN'), ('e', 'NN'), ('s', 'NN'), ('.', '.')] \n",
      "\n"
     ]
    }
   ],
   "source": [
    "newssen = \"Tiger Woods seriously injured in rollover car crash near Los Angeles.\"\n",
    "taggednewssen = nltk.pos_tag(newssen)\n",
    "\n",
    "print('Original news sentence:')\n",
    "print('-----------------------')\n",
    "print(newssen,'\\n')\n",
    "print('POS tagged news sentence:')\n",
    "print('--------------------')\n",
    "print(taggednewssen,'\\n')"
   ]
  },
  {
   "cell_type": "code",
   "execution_count": 33,
   "metadata": {},
   "outputs": [
    {
     "name": "stdout",
     "output_type": "stream",
     "text": [
      "Original news sentence:\n",
      "Tiger Woods seriously injured in rollover car crash near Los Angeles.\n",
      "----------------------- \n",
      "\n",
      "Spacy POS Tagging: \n",
      "\n",
      "Tiger        PROPN      NNP      noun, proper singular\n",
      "Woods        PROPN      NNP      noun, proper singular\n",
      "seriously    ADV        RB       adverb\n",
      "injured      VERB       VBN      verb, past participle\n",
      "in           ADP        IN       conjunction, subordinating or preposition\n",
      "rollover     NOUN       NN       noun, singular or mass\n",
      "car          NOUN       NN       noun, singular or mass\n",
      "crash        NOUN       NN       noun, singular or mass\n",
      "near         SCONJ      IN       conjunction, subordinating or preposition\n",
      "Los          PROPN      NNP      noun, proper singular\n",
      "Angeles      PROPN      NNP      noun, proper singular\n",
      ".            PUNCT      .        punctuation mark, sentence closer\n"
     ]
    }
   ],
   "source": [
    "#Full analyzed sentence in spacy\n",
    "newssen2 = sp(\"Tiger Woods seriously injured in rollover car crash near Los Angeles.\")\n",
    "print('Original news sentence:')\n",
    "print(newssen2.text)\n",
    "print('-----------------------','\\n')\n",
    "\n",
    "print('Spacy POS Tagging:','\\n')\n",
    "for word in newssen2:\n",
    "    print(f'{word.text:{12}} {word.pos_:{10}} {word.tag_:{8}} {spacy.explain(word.tag_)}')"
   ]
  },
  {
   "cell_type": "markdown",
   "metadata": {},
   "source": [
    "c. Explain any differences between the two taggers and your manual tagging as much as you can."
   ]
  },
  {
   "cell_type": "markdown",
   "metadata": {},
   "source": [
    "Human interpretation versus machine learning interpreatation an being able to run every variation easily explains any difference between my manual tag and the two different POS packages."
   ]
  },
  {
   "cell_type": "markdown",
   "metadata": {},
   "source": [
    "Citations:\n",
    "1. http://www.nltk.org/book/ch05.html\n",
    "\n",
    "2. https://stackabuse.com/python-for-nlp-parts-of-speech-tagging-and-named-entity-recognition/\n"
   ]
  }
 ],
 "metadata": {
  "kernelspec": {
   "display_name": "Python 3",
   "language": "python",
   "name": "python3"
  },
  "language_info": {
   "codemirror_mode": {
    "name": "ipython",
    "version": 3
   },
   "file_extension": ".py",
   "mimetype": "text/x-python",
   "name": "python",
   "nbconvert_exporter": "python",
   "pygments_lexer": "ipython3",
   "version": "3.7.6"
  }
 },
 "nbformat": 4,
 "nbformat_minor": 4
}
