{
 "cells": [
  {
   "cell_type": "markdown",
   "metadata": {},
   "source": [
    "## DS 7337: Natural Language Processing\n",
    "\n",
    "## Jaclyn Coate\n",
    "## Homework 3\n",
    "\n",
    "#### Spring 2021\n",
    "#### Natural Language Processing w/ Python: Bird, Klein, & Loper"
   ]
  },
  {
   "cell_type": "code",
   "execution_count": 5,
   "metadata": {},
   "outputs": [],
   "source": [
    "import nltk\n",
    "import numpy as np\n",
    "from nltk.metrics import *\n",
    "from nltk.corpus import stopwords\n",
    "import matplotlib.pyplot as plt\n",
    "#nltk.download('wordnet')\n",
    "from difflib import SequenceMatcher\n",
    "\n",
    "from nltk.classify import NaiveBayesClassifier\n",
    "from nltk.tag.sequential import ClassifierBasedPOSTagger"
   ]
  },
  {
   "cell_type": "markdown",
   "metadata": {},
   "source": [
    "##### HW 3: Question 1\n",
    "Compare your given name with your nickname (if you don’t have a nickname, invent one for this assignment) by answering the following questions:\n",
    "\n",
    "a. What is the edit distance between your nickname and your given name?\n",
    "    - Given: Jaclyn\n",
    "    - Nickname: Jac"
   ]
  },
  {
   "cell_type": "code",
   "execution_count": 10,
   "metadata": {},
   "outputs": [
    {
     "name": "stdout",
     "output_type": "stream",
     "text": [
      "The edit distance from Jaclyn to Jac is 3\n",
      "\n"
     ]
    }
   ],
   "source": [
    "givenName = 'Jaclyn'\n",
    "nickName = 'Jac'\n",
    "\n",
    "editDist = edit_distance(givenName,nickName)\n",
    "\n",
    "print ('The edit distance from {} to {} is {}\\n'.\n",
    "       format(givenName,nickName,editDist))"
   ]
  },
  {
   "cell_type": "markdown",
   "metadata": {},
   "source": [
    "b. What is the percentage string match between your nickname and your given name? Show your work for both calculations."
   ]
  },
  {
   "cell_type": "code",
   "execution_count": 11,
   "metadata": {},
   "outputs": [
    {
     "name": "stdout",
     "output_type": "stream",
     "text": [
      "My given name Jaclyn and nickname Jac are 66.67% similar)\n",
      "\n"
     ]
    }
   ],
   "source": [
    "pctDist = (SequenceMatcher(None, givenName, nickName).ratio())*100\n",
    "print ('My given name {} and nickname {} are {:2.2f}% similar)\\n'.\n",
    "      format(givenName, nickName,pctDist))"
   ]
  },
  {
   "cell_type": "markdown",
   "metadata": {},
   "source": [
    "##### HW 3: Question 2\n",
    "Find a friend (or family member or classmate) who you know has read a certain book. Without your friend knowing, copy the first two sentences of that book. Now rewrite the words from those sentences, excluding stop words. Now tell your friend to guess which book the words are from by reading them just that list of words.\n",
    "    - Romeo and Juliet"
   ]
  },
  {
   "cell_type": "code",
   "execution_count": 15,
   "metadata": {},
   "outputs": [],
   "source": [
    "# First two lines to Romeo and Juliet\n",
    "#\n",
    "randj = (\"Two households, both alike in dignity, \\\n",
    "in fair Verona, where we lay our scene, \\\n",
    "from ancient grudge break to new mutiny, \\\n",
    "where civil blood makes civil hands unclean. \\\n",
    "From forth the fatal loins of these two foes \\\n",
    "a pair of star-cross'd lovers take their life; \\\n",
    "whole misadventured piteous overthrows \\\n",
    "do with their death bury their parents' strife.\")"
   ]
  },
  {
   "cell_type": "code",
   "execution_count": 16,
   "metadata": {},
   "outputs": [],
   "source": [
    "from nltk.tokenize import word_tokenize\n",
    "from nltk.stem.porter import PorterStemmer\n",
    "from nltk.corpus import stopwords\n",
    "from nltk.corpus import wordnet\n",
    "import re"
   ]
  },
  {
   "cell_type": "code",
   "execution_count": 17,
   "metadata": {},
   "outputs": [],
   "source": [
    "#Function to remove stop words\n",
    "def remove_stop_words_from_text(text):\n",
    "    words = word_tokenize(text)\n",
    "\n",
    "    stop_words = set(stopwords.words('english'))\n",
    "    return ' '.join([w for w in words if not w in stop_words])"
   ]
  },
  {
   "cell_type": "code",
   "execution_count": 20,
   "metadata": {},
   "outputs": [
    {
     "data": {
      "text/plain": [
       "\"Two households , alike dignity , fair Verona , lay scene , ancient grudge break new mutiny , civil blood makes civil hands unclean . From forth fatal loins two foes pair star-cross 'd lovers take life ; whole misadventured piteous overthrows death bury parents ' strife .\""
      ]
     },
     "execution_count": 20,
     "metadata": {},
     "output_type": "execute_result"
    }
   ],
   "source": [
    "#Removing Stop Words from Romeo and Juliet\n",
    "remove_stop_words_from_text(randj)"
   ]
  },
  {
   "cell_type": "markdown",
   "metadata": {},
   "source": [
    "a. Did you friend correctly guess the book on the first try?\n",
    "    - Yes"
   ]
  },
  {
   "cell_type": "markdown",
   "metadata": {},
   "source": [
    "b. What did he or she guess?\n",
    "    - Romeo and Juliet"
   ]
  },
  {
   "cell_type": "markdown",
   "metadata": {},
   "source": [
    "c. Explain why you think you friend either was or was not able to guess the book from hearing the list of words. \n",
    "    - Due to Shakespeare's writing method there are stop words but more so descriptive and unique words that are leveraged to set the scene for a play. So I am not surprised that he was able to determine what the document was because of the lack of stop words."
   ]
  },
  {
   "cell_type": "markdown",
   "metadata": {},
   "source": [
    "#### HW 3: Question 3\n",
    "Run one of the stemmers available in Python. Run the same two sentences from question 2 above through the stemmer and show the results. How many of the outputted stems are valid morphological roots of the corresponding words? Express this answer as a percentage."
   ]
  },
  {
   "cell_type": "code",
   "execution_count": 21,
   "metadata": {},
   "outputs": [],
   "source": [
    "#Function fromm wordnet\n",
    "def is_true_word(word):\n",
    "    return len(wordnet.synsets(word)) > 0"
   ]
  },
  {
   "cell_type": "code",
   "execution_count": 24,
   "metadata": {},
   "outputs": [],
   "source": [
    "#Funtion a large function to be able to create tokenization, \n",
    "#and stemmers to see what kinds of stems of words we are working with\n",
    "def how_many_words_are_true(text):\n",
    "    # only take out word stems and tokenize those words stems\n",
    "    text = re.sub(r'[^\\w\\s]+', '', text)\n",
    "    words = word_tokenize(text)\n",
    "    stemmer = PorterStemmer()\n",
    "    \n",
    "    stem_words = [stemmer.stem(w) for w in words]\n",
    "    \n",
    "    false_words = []\n",
    "    true_words = []\n",
    "   \n",
    "    for word in stem_words:\n",
    "        if is_true_word(word):\n",
    "            true_words.append(word)\n",
    "        else:\n",
    "            false_words.append(word)\n",
    "    #Percent of valid morphological roots and correpsonding words\n",
    "    percent_true = len(true_words) / float(len(words))\n",
    "    #Printing instructions\n",
    "    print('{} True Words: \"{}\"'.format(len(true_words), ', '.join(true_words)))\n",
    "    print('{} False Words: \"{}\"'.format(len(false_words), ', '.join(false_words)))\n",
    "    print()\n",
    "    print('{0:.0%} Percent True'.format(percent_true))"
   ]
  },
  {
   "cell_type": "code",
   "execution_count": 25,
   "metadata": {},
   "outputs": [
    {
     "name": "stdout",
     "output_type": "stream",
     "text": [
      "34 True Words: \"two, household, both, in, in, fair, verona, lay, scene, ancient, break, new, civil, blood, make, civil, hand, unclean, forth, fatal, loin, two, foe, a, pair, lover, take, life, whole, overthrow, do, death, parent, strife\"\n",
      "23 False Words: \"alik, digniti, where, we, our, from, grudg, to, mutini, where, from, the, of, these, of, starcrossd, their, misadventur, piteou, with, their, buri, their\"\n",
      "\n",
      "60% Percent True\n"
     ]
    }
   ],
   "source": [
    "how_many_words_are_true(randj)"
   ]
  }
 ],
 "metadata": {
  "kernelspec": {
   "display_name": "Python 3",
   "language": "python",
   "name": "python3"
  },
  "language_info": {
   "codemirror_mode": {
    "name": "ipython",
    "version": 3
   },
   "file_extension": ".py",
   "mimetype": "text/x-python",
   "name": "python",
   "nbconvert_exporter": "python",
   "pygments_lexer": "ipython3",
   "version": "3.7.6"
  }
 },
 "nbformat": 4,
 "nbformat_minor": 4
}
