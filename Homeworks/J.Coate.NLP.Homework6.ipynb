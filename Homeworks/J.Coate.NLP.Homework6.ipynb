{
 "cells": [
  {
   "cell_type": "markdown",
   "metadata": {},
   "source": [
    "## DS 7337: Natural Language Processing\n",
    "\n",
    "## Jaclyn Coate\n",
    "## Homework 6\n",
    "\n",
    "#### Spring 2021\n",
    "#### Natural Language Processing w/ Python: Bird, Klein, & Loper"
   ]
  },
  {
   "cell_type": "markdown",
   "metadata": {},
   "source": [
    "##### HW 6: Question 1\n",
    "Evaluate text similarity of Amazon book search results by doing the following:\n",
    "    \n",
    "    a. Do a book search on Amazon. Manually copy the full book title (including subtitle) of each of the top 24 books listed in the first two pages of search results."
   ]
  },
  {
   "cell_type": "markdown",
   "metadata": {},
   "source": [
    "#### Book Search Results\n",
    "\n",
    "* Eat Better, Feel Better: My Recipes for Wellness and Healing, Inside and Out\n",
    "* It's Not Easy Being a Bunny (Beginner Books(R))\n",
    "* Dog Man: Mothering Heights: From the Creator of Captain Underpants (Dog Man #10) (10)\n",
    "* This Is the Fire: What I Say to My Friends About Racism\n",
    "* Little Blue Truck's Springtime\n",
    "* The Code Breaker: Jennifer Doudna, Gene Editing, and the Future of the Human Race\n",
    "* Life After Death: A Novel\n",
    "* Biscuit's Pet & Play Easter: A Touch & Feel Book\n",
    "* If Animals Kissed Good Night\n",
    "* Win\n",
    "* I Love You to the Moon and Back\n",
    "* The Four Winds: A Novel\n",
    "* Atomic Habits: An Easy & Proven Way to Build Good Habits & Break Bad Ones\n",
    "* The Four Agreements: A Practical Guide to Personal Freedom (A Toltec Wisdom Book)\n",
    "* The Midnight Library: A Novel\n",
    "* The Boy, the Mole, the Fox and the Horse\n",
    "* Candlekeep Mysteries (D&D Adventure Book - Dungeons & Dragons) (Dungeons and Dragons)\n",
    "* The Body Keeps the Score: Brain, Mind, and Body in the Healing of Trauma\n",
    "* The Very Hungry Caterpillar\n",
    "* My First Learn to Write Workbook: Practice for Kids with Pen Control, Line Tracing, Letters, and More!\n",
    "* Beyond Order: 12 More Rules for Life\n",
    "* Uncomfortable Conversations with a Black Man\n",
    "* Everything Will Be Okay: Life Lessons for Young Women (from a Former Young Woman)\n",
    "* Hippity, Hoppity, Little Bunny (Finger Puppet Board Book for Easter Basket Stuffer Ages 0-4) (Finger Puppet Book)"
   ]
  },
  {
   "cell_type": "code",
   "execution_count": 32,
   "metadata": {},
   "outputs": [],
   "source": [
    "#Amazon Book List\n",
    "df =  ['Eat Better, Feel Better: My Recipes for Wellness and Healing, Inside and Out',\n",
    "'Its Not Easy Being a Bunny (Beginner Books(R))',\n",
    "'Dog Man: Mothering Heights: From the Creator of Captain Underpants (Dog Man #10) (10)',\n",
    "'This Is the Fire: What I Say to My Friends About Racism',\n",
    "'Little Blue Trucks Springtime',\n",
    "'The Code Breaker: Jennifer Doudna, Gene Editing, and the Future of the Human Race',\n",
    "'Life After Death: A Novel',\n",
    "'Biscuits Pet & Play Easter: A Touch & Feel Book',\n",
    "'If Animals Kissed Good Night',\n",
    "'Win',\n",
    "'I Love You to the Moon and Back',\n",
    "'The Four Winds: A Novel',\n",
    "'Atomic Habits: An Easy & Proven Way to Build Good Habits & Break Bad Ones',\n",
    "'The Four Agreements: A Practical Guide to Personal Freedom (A Toltec Wisdom Book)',\n",
    "'The Midnight Library: A Novel',\n",
    "'The Boy, the Mole, the Fox and the Horse',\n",
    "'Candlekeep Mysteries (D&D Adventure Book - Dungeons & Dragons) (Dungeons and Dragons)',\n",
    "'The Body Keeps the Score: Brain, Mind, and Body in the Healing of Trauma',\n",
    "'The Very Hungry Caterpillar',\n",
    "'My First Learn to Write Workbook: Practice for Kids with Pen Control, Line Tracing, Letters, and More!',\n",
    "'Beyond Order: 12 More Rules for Life',\n",
    "'Uncomfortable Conversations with a Black Man',\n",
    "'Everything Will Be Okay: Life Lessons for Young Women (from a Former Young Woman)',\n",
    "'Hippity, Hoppity, Little Bunny (Finger Puppet Board Book for Easter Basket Stuffer Ages 0-4) (Finger Puppet Book)']"
   ]
  },
  {
   "cell_type": "code",
   "execution_count": 33,
   "metadata": {},
   "outputs": [
    {
     "name": "stdout",
     "output_type": "stream",
     "text": [
      "Number of Books: 24\n",
      "Book Titles:  ['Eat Better, Feel Better: My Recipes for Wellness and Healing, Inside and Out', 'Its Not Easy Being a Bunny (Beginner Books(R))', 'Dog Man: Mothering Heights: From the Creator of Captain Underpants (Dog Man #10) (10)', 'This Is the Fire: What I Say to My Friends About Racism', 'Little Blue Trucks Springtime', 'The Code Breaker: Jennifer Doudna, Gene Editing, and the Future of the Human Race', 'Life After Death: A Novel', 'Biscuits Pet & Play Easter: A Touch & Feel Book', 'If Animals Kissed Good Night', 'Win', 'I Love You to the Moon and Back', 'The Four Winds: A Novel', 'Atomic Habits: An Easy & Proven Way to Build Good Habits & Break Bad Ones', 'The Four Agreements: A Practical Guide to Personal Freedom (A Toltec Wisdom Book)', 'The Midnight Library: A Novel', 'The Boy, the Mole, the Fox and the Horse', 'Candlekeep Mysteries (D&D Adventure Book - Dungeons & Dragons) (Dungeons and Dragons)', 'The Body Keeps the Score: Brain, Mind, and Body in the Healing of Trauma', 'The Very Hungry Caterpillar', 'My First Learn to Write Workbook: Practice for Kids with Pen Control, Line Tracing, Letters, and More!', 'Beyond Order: 12 More Rules for Life', 'Uncomfortable Conversations with a Black Man', 'Everything Will Be Okay: Life Lessons for Young Women (from a Former Young Woman)', 'Hippity, Hoppity, Little Bunny (Finger Puppet Board Book for Easter Basket Stuffer Ages 0-4) (Finger Puppet Book)']\n"
     ]
    }
   ],
   "source": [
    "print(\"Number of Books:\",len(df))\n",
    "print(\"Book Titles: \", df)"
   ]
  },
  {
   "cell_type": "markdown",
   "metadata": {},
   "source": [
    "    b. In Python, run one of the text-similarity measures covered in this course, e.g., cosine similarity. Compare each of the book titles, pairwise, to every other one."
   ]
  },
  {
   "cell_type": "code",
   "execution_count": 34,
   "metadata": {},
   "outputs": [],
   "source": [
    "#https://stackoverflow.com/questions/12118720/python-tf-idf-cosine-to-find-document-similarity\n",
    "#code assist from: https://github.com/wnayden/MSDS-7337/blob/master/20201103%20MSDS%207337%20HW%206.ipynb\n",
    "\n",
    "from sklearn.feature_extraction.text import CountVectorizer\n",
    "from sklearn.feature_extraction.text import TfidfTransformer\n",
    "from nltk.corpus import stopwords\n",
    "import numpy as np\n",
    "import numpy.linalg as LA\n",
    "from nltk.tokenize import word_tokenize\n",
    "import string"
   ]
  },
  {
   "cell_type": "code",
   "execution_count": 36,
   "metadata": {},
   "outputs": [],
   "source": [
    "#set stopwords as a variable\n",
    "sw = stopwords.words('english')"
   ]
  },
  {
   "cell_type": "code",
   "execution_count": 37,
   "metadata": {},
   "outputs": [],
   "source": [
    "#code assist from: https://towardsdatascience.com/calculating-string-similarity-in-python-276e18a7d33a\n",
    "#code assist from: https://github.com/wnayden/MSDS-7337/blob/master/20201103%20MSDS%207337%20HW%206.ipynb\n",
    "\n",
    "# Clean Title Function\n",
    "def clean_titles(x):\n",
    "    tmp = ''.join([i for i in x if i not in string.punctuation])\n",
    "    tmp = tmp.lower()\n",
    "    tmp = ' '.join(i for i in tmp.split() if i not in sw)\n",
    "    return tmp"
   ]
  },
  {
   "cell_type": "code",
   "execution_count": 38,
   "metadata": {},
   "outputs": [
    {
     "data": {
      "text/plain": [
       "['eat better feel better recipes wellness healing inside',\n",
       " 'easy bunny beginner booksr',\n",
       " 'dog man mothering heights creator captain underpants dog man 10 10',\n",
       " 'fire say friends racism',\n",
       " 'little blue trucks springtime',\n",
       " 'code breaker jennifer doudna gene editing future human race',\n",
       " 'life death novel',\n",
       " 'biscuits pet play easter touch feel book',\n",
       " 'animals kissed good night',\n",
       " 'win',\n",
       " 'love moon back',\n",
       " 'four winds novel',\n",
       " 'atomic habits easy proven way build good habits break bad ones',\n",
       " 'four agreements practical guide personal freedom toltec wisdom book',\n",
       " 'midnight library novel',\n",
       " 'boy mole fox horse',\n",
       " 'candlekeep mysteries dd adventure book dungeons dragons dungeons dragons',\n",
       " 'body keeps score brain mind body healing trauma',\n",
       " 'hungry caterpillar',\n",
       " 'first learn write workbook practice kids pen control line tracing letters',\n",
       " 'beyond order 12 rules life',\n",
       " 'uncomfortable conversations black man',\n",
       " 'everything okay life lessons young women former young woman',\n",
       " 'hippity hoppity little bunny finger puppet board book easter basket stuffer ages 04 finger puppet book']"
      ]
     },
     "execution_count": 38,
     "metadata": {},
     "output_type": "execute_result"
    }
   ],
   "source": [
    "title_list_clean = list(map(clean_titles,df))\n",
    "\n",
    "# Checking that our list is cleaned (all lower and no punctuation)\n",
    "title_list_clean"
   ]
  },
  {
   "cell_type": "code",
   "execution_count": 39,
   "metadata": {},
   "outputs": [],
   "source": [
    "# Importing Cosine Similarity Tools\n",
    "from sklearn.metrics.pairwise import cosine_similarity"
   ]
  },
  {
   "cell_type": "code",
   "execution_count": 40,
   "metadata": {},
   "outputs": [],
   "source": [
    "# Creating a matrix of work appearances\n",
    "vec = CountVectorizer().fit_transform(title_list_clean)\n",
    "vecs = vec.toarray()"
   ]
  },
  {
   "cell_type": "code",
   "execution_count": 41,
   "metadata": {},
   "outputs": [
    {
     "data": {
      "text/plain": [
       "(24, 124)"
      ]
     },
     "execution_count": 41,
     "metadata": {},
     "output_type": "execute_result"
    }
   ],
   "source": [
    "vecs.shape"
   ]
  },
  {
   "cell_type": "code",
   "execution_count": 42,
   "metadata": {},
   "outputs": [
    {
     "data": {
      "text/plain": [
       "array([[1.        , 0.        , 0.        , 0.        , 0.        ,\n",
       "        0.        , 0.        , 0.11952286, 0.        , 0.        ,\n",
       "        0.        , 0.        , 0.        , 0.        , 0.        ,\n",
       "        0.        , 0.        , 0.1       , 0.        , 0.        ,\n",
       "        0.        , 0.        , 0.        , 0.        ],\n",
       "       [0.        , 1.        , 0.        , 0.        , 0.        ,\n",
       "        0.        , 0.        , 0.        , 0.        , 0.        ,\n",
       "        0.        , 0.        , 0.13867505, 0.        , 0.        ,\n",
       "        0.        , 0.        , 0.        , 0.        , 0.        ,\n",
       "        0.        , 0.        , 0.        , 0.10660036]])"
      ]
     },
     "execution_count": 42,
     "metadata": {},
     "output_type": "execute_result"
    }
   ],
   "source": [
    "# Cosine Similarity of Titles\n",
    "cos_similarity = cosine_similarity(vecs)\n",
    "\n",
    "# Taking a quick look at the first two titles\n",
    "cos_similarity[:2,:]"
   ]
  },
  {
   "cell_type": "code",
   "execution_count": 43,
   "metadata": {},
   "outputs": [
    {
     "data": {
      "text/plain": [
       "(24, 24)"
      ]
     },
     "execution_count": 43,
     "metadata": {},
     "output_type": "execute_result"
    }
   ],
   "source": [
    "# Function to compare pairwise\n",
    "cos_similarity.shape"
   ]
  },
  {
   "cell_type": "markdown",
   "metadata": {},
   "source": [
    "    c. Which two titles are the most similar to each other? Which are the most dissimilar? Where do they rank, among the first 24 results?\n",
    "    \n",
    "Using our heatmap below we can see that barely any of our books are similar. Not a single really stand out as having any similarity at all. However, we can say that 6 & 11 and 6 & 14 have some similarity that is near .3-.4 correlation."
   ]
  },
  {
   "cell_type": "code",
   "execution_count": 46,
   "metadata": {},
   "outputs": [],
   "source": [
    "import seaborn as sns\n",
    "import matplotlib.pyplot as plt"
   ]
  },
  {
   "cell_type": "code",
   "execution_count": 47,
   "metadata": {},
   "outputs": [
    {
     "data": {
      "text/plain": [
       "<matplotlib.axes._subplots.AxesSubplot at 0x7fa643d60350>"
      ]
     },
     "execution_count": 47,
     "metadata": {},
     "output_type": "execute_result"
    },
    {
     "data": {
      "image/png": "[encoded data removed]",
      "text/plain": [
       "<Figure size 792x648 with 2 Axes>"
      ]
     },
     "metadata": {
      "needs_background": "light"
     },
     "output_type": "display_data"
    }
   ],
   "source": [
    "#code assist from: https://seaborn.pydata.org/examples/many_pairwise_correlations.html\n",
    "#code assist from: https://github.com/wnayden/MSDS-7337/blob/master/20201103%20MSDS%207337%20HW%206.ipynb\n",
    "\n",
    "f, ax = plt.subplots(figsize=(11,9))\n",
    "\n",
    "cmap = sns.diverging_palette(230, 20, as_cmap=True)\n",
    "sns.heatmap(cos_similarity, cmap=cmap)"
   ]
  },
  {
   "cell_type": "markdown",
   "metadata": {},
   "source": [
    "Below we see the relationship between 6 & 11"
   ]
  },
  {
   "cell_type": "code",
   "execution_count": 50,
   "metadata": {},
   "outputs": [
    {
     "name": "stdout",
     "output_type": "stream",
     "text": [
      "Score:  0.3333333333333334\n",
      "\n",
      "Title 9:\n",
      " Life After Death: A Novel \n",
      " Title 22: \n",
      " The Four Winds: A Novel\n"
     ]
    }
   ],
   "source": [
    "print(\"Score: \", cos_similarity[6,11])\n",
    "print(\"\\nTitle 9:\\n\", df[6],\"\\n\",\"Title 22: \\n\",df[11])"
   ]
  },
  {
   "cell_type": "markdown",
   "metadata": {},
   "source": [
    "Below we see the relationship between 6 & 14"
   ]
  },
  {
   "cell_type": "code",
   "execution_count": 51,
   "metadata": {},
   "outputs": [
    {
     "name": "stdout",
     "output_type": "stream",
     "text": [
      "Score:  0.3333333333333334\n",
      "\n",
      "Title 9:\n",
      " Life After Death: A Novel \n",
      " Title 22: \n",
      " The Midnight Library: A Novel\n"
     ]
    }
   ],
   "source": [
    "print(\"Score: \", cos_similarity[6,14])\n",
    "print(\"\\nTitle 9:\\n\", df[6],\"\\n\",\"Title 22: \\n\",df[14])"
   ]
  },
  {
   "attachments": {},
   "cell_type": "markdown",
   "metadata": {},
   "source": [
    "##### HW 6: Question 2\n",
    "Now evaluate using a major search engine.\n",
    "    \n",
    "    a. Enter one of the book titles from question 1a into Google, Bing, or Yahoo!. Copy the capsule of the first organic result and the 20th organic result. Take web results only (i.e., not video results), and skip sponsored results. "
   ]
  },
  {
   "cell_type": "code",
   "execution_count": 67,
   "metadata": {},
   "outputs": [],
   "source": [
    "# Title used for Google search\n",
    "Title = \"women lean in\"\n",
    "\n",
    "# 1st organic reslt\n",
    "first = \"\"\"Lean In: Women, Work, and the Will to Lead\"\"\"\n",
    "# 7th organic result\n",
    "seventh = \"Hop on Pop\""
   ]
  },
  {
   "cell_type": "code",
   "execution_count": 68,
   "metadata": {},
   "outputs": [],
   "source": [
    "capsules = [Title, first, seventh]\n",
    "\n",
    "#code assist from: https://towardsdatascience.com/calculating-string-similarity-in-python-276e18a7d33a\n",
    "#code assist from : https://github.com/wnayden/MSDS-7337/blob/master/20201103%20MSDS%207337%20HW%206.ipynb\n",
    "\n",
    "#function to clean the capsules up\n",
    "def clean_string(x):\n",
    "    tmp = ''.join([i for i in x if i not in string.punctuation])\n",
    "    tmp = tmp.lower()\n",
    "    tmp = ' '.join(i for i in tmp.split() if i not in sw)\n",
    "    return tmp\n",
    "\n",
    "capsules_clean = list(map(clean_string,capsules))"
   ]
  },
  {
   "cell_type": "code",
   "execution_count": 69,
   "metadata": {},
   "outputs": [
    {
     "data": {
      "text/plain": [
       "['women lean', 'lean women work lead', 'hop pop']"
      ]
     },
     "execution_count": 69,
     "metadata": {},
     "output_type": "execute_result"
    }
   ],
   "source": [
    "capsules_clean"
   ]
  },
  {
   "cell_type": "markdown",
   "metadata": {},
   "source": [
    "    b. Run the same text similarity calculation that you used for question 1b on each of these capsules in comparison to the original query (book title). "
   ]
  },
  {
   "cell_type": "markdown",
   "metadata": {},
   "source": [
    "When you complete a results and compare the first to a later in the list we would expect to see a much lower cosine similarity score. It is not surprising that the further you get away from the top search results we start to see things differ. This is actually in line with Google's search algorithms. As you move farther away from the most related Google starts to list things that are tangentally related using different lexical analysis such as elevating the synonmyms and hyponomns. Overall, what we see it what we expected. "
   ]
  },
  {
   "cell_type": "code",
   "execution_count": 70,
   "metadata": {},
   "outputs": [],
   "source": [
    "# Creating the matrix of word appearances\n",
    "c_vec = CountVectorizer().fit_transform(capsules_clean)\n",
    "cap_vecs = c_vec.toarray()"
   ]
  },
  {
   "cell_type": "code",
   "execution_count": 71,
   "metadata": {},
   "outputs": [],
   "source": [
    "#Code assist from: https://towardsdatascience.com/calculating-string-similarity-in-python-276e18a7d33a\n",
    "#Code assist from: https://github.com/wnayden/MSDS-7337/blob/master/20201103%20MSDS%207337%20HW%206.ipynb\n",
    "\n",
    "# Funciton Comparing the Two Results to the Title\n",
    "def capsule_cossim_vecs(x, y):\n",
    "    x = x.reshape(1,-1)\n",
    "    y = y.reshape(1,-1)\n",
    "    return cosine_similarity(x,y)[0][0]"
   ]
  },
  {
   "cell_type": "markdown",
   "metadata": {},
   "source": [
    "    c. Which one has the highest similarity measure?"
   ]
  },
  {
   "cell_type": "code",
   "execution_count": 72,
   "metadata": {},
   "outputs": [
    {
     "data": {
      "text/plain": [
       "0.7071067811865475"
      ]
     },
     "execution_count": 72,
     "metadata": {},
     "output_type": "execute_result"
    }
   ],
   "source": [
    "# Title versus 1st capsule\n",
    "capsule_cossim_vecs(cap_vecs[0],cap_vecs[1])"
   ]
  },
  {
   "cell_type": "code",
   "execution_count": 75,
   "metadata": {},
   "outputs": [
    {
     "data": {
      "text/plain": [
       "0.0"
      ]
     },
     "execution_count": 75,
     "metadata": {},
     "output_type": "execute_result"
    }
   ],
   "source": [
    "# Title versus 7th capsule\n",
    "capsule_cossim_vecs(cap_vecs[0],cap_vecs[2])"
   ]
  }
 ],
 "metadata": {
  "kernelspec": {
   "display_name": "Python 3",
   "language": "python",
   "name": "python3"
  },
  "language_info": {
   "codemirror_mode": {
    "name": "ipython",
    "version": 3
   },
   "file_extension": ".py",
   "mimetype": "text/x-python",
   "name": "python",
   "nbconvert_exporter": "python",
   "pygments_lexer": "ipython3",
   "version": "3.7.6"
  }
 },
 "nbformat": 4,
 "nbformat_minor": 4
}
